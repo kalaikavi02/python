{
 "cells": [
  {
   "cell_type": "code",
   "execution_count": 1,
   "id": "4de37bcf-fa11-40ae-8f57-f401f761df37",
   "metadata": {},
   "outputs": [
    {
     "name": "stdout",
     "output_type": "stream",
     "text": [
      "<class 'int'>\n"
     ]
    }
   ],
   "source": [
    "k=25\n",
    "print(type(k))"
   ]
  },
  {
   "cell_type": "code",
   "execution_count": 3,
   "id": "8cf3d721-5e6f-45a6-baec-1f0f3781958e",
   "metadata": {},
   "outputs": [
    {
     "name": "stdout",
     "output_type": "stream",
     "text": [
      "<class 'float'>\n"
     ]
    }
   ],
   "source": [
    "k=29.8\n",
    "print(type(k))"
   ]
  },
  {
   "cell_type": "code",
   "execution_count": 5,
   "id": "fa2cdf96-303d-40c2-a377-119b1b27e23e",
   "metadata": {},
   "outputs": [
    {
     "name": "stdout",
     "output_type": "stream",
     "text": [
      "<class 'str'>\n"
     ]
    }
   ],
   "source": [
    "k=\"hi\"\n",
    "print(type(k))"
   ]
  },
  {
   "cell_type": "code",
   "execution_count": 7,
   "id": "6376cec2-c220-424d-b027-e2529dc1588f",
   "metadata": {},
   "outputs": [
    {
     "name": "stdout",
     "output_type": "stream",
     "text": [
      "<class 'complex'>\n"
     ]
    }
   ],
   "source": [
    "k=2+3j\n",
    "print(type(k))"
   ]
  },
  {
   "cell_type": "code",
   "execution_count": 9,
   "id": "0f91168a-a24f-4094-8d7a-ebb60973c713",
   "metadata": {},
   "outputs": [
    {
     "name": "stdin",
     "output_type": "stream",
     "text": [
      "enter the number 56\n"
     ]
    },
    {
     "name": "stdout",
     "output_type": "stream",
     "text": [
      "56\n"
     ]
    }
   ],
   "source": [
    "k=input(\"enter the number\")\n",
    "print(k)"
   ]
  },
  {
   "cell_type": "code",
   "execution_count": 13,
   "id": "6055ce85-ce02-4596-8350-5f2ca334a059",
   "metadata": {},
   "outputs": [
    {
     "name": "stdout",
     "output_type": "stream",
     "text": [
      "Hello Wo\n"
     ]
    }
   ],
   "source": [
    "k1=\"Hello World\"\n",
    "print(k1[0:8])"
   ]
  },
  {
   "cell_type": "code",
   "execution_count": 33,
   "id": "18eb937f-3d69-44b6-b870-1c18146b3605",
   "metadata": {},
   "outputs": [
    {
     "name": "stdout",
     "output_type": "stream",
     "text": [
      "rl\n"
     ]
    }
   ],
   "source": [
    "k1=\"Hello World\"\n",
    "print(k1[-3:-1])"
   ]
  },
  {
   "cell_type": "code",
   "execution_count": 3,
   "id": "ec255ec9-46eb-486f-bcc6-cae3fc1b07b3",
   "metadata": {},
   "outputs": [
    {
     "name": "stdout",
     "output_type": "stream",
     "text": [
      "28.0\n",
      "28\n",
      "(28+0j)\n"
     ]
    }
   ],
   "source": [
    "k=28\n",
    "k1=float(k)\n",
    "k2=int(k)\n",
    "k3=complex(k)\n",
    "print(k1)\n",
    "print(k2)\n",
    "print(k3)"
   ]
  },
  {
   "cell_type": "code",
   "execution_count": 9,
   "id": "57ec72a2-0ca8-423a-bdb2-ef5acd2f0e16",
   "metadata": {},
   "outputs": [
    {
     "name": "stdout",
     "output_type": "stream",
     "text": [
      "2.0\n",
      "3.0\n"
     ]
    }
   ],
   "source": [
    "k=2+3j\n",
    "real_part=float(k.real)\n",
    "imag_part=float(k.imag)\n",
    "print(real_part)\n",
    "print(imag_part)"
   ]
  },
  {
   "cell_type": "code",
   "execution_count": null,
   "id": "ff435d10-3c95-4d8e-a96a-8f2547a54920",
   "metadata": {},
   "outputs": [],
   "source": []
  }
 ],
 "metadata": {
  "kernelspec": {
   "display_name": "Python 3 (ipykernel)",
   "language": "python",
   "name": "python3"
  },
  "language_info": {
   "codemirror_mode": {
    "name": "ipython",
    "version": 3
   },
   "file_extension": ".py",
   "mimetype": "text/x-python",
   "name": "python",
   "nbconvert_exporter": "python",
   "pygments_lexer": "ipython3",
   "version": "3.12.7"
  }
 },
 "nbformat": 4,
 "nbformat_minor": 5
}
