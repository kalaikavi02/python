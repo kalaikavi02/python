{
 "cells": [
  {
   "cell_type": "code",
   "execution_count": 16,
   "id": "7513241c-11c4-4e05-9e1e-88a00f29b59b",
   "metadata": {},
   "outputs": [
    {
     "name": "stdin",
     "output_type": "stream",
     "text": [
      "Enter a number: 12\n",
      "Enter a number: 4\n"
     ]
    },
    {
     "name": "stdout",
     "output_type": "stream",
     "text": [
      "Addition: 16\n",
      "adding 12 and 4 is 16\n"
     ]
    }
   ],
   "source": [
    "#Arithmetic operator\n",
    "#addition\n",
    "a=int(input(\"Enter a number:\"))\n",
    "b=int(input(\"Enter a number:\"))\n",
    "print(\"Addition:\",(a+b))\n",
    "print(f\"adding {a} and {b} is {a+b}\")\n"
   ]
  },
  {
   "cell_type": "code",
   "execution_count": 18,
   "id": "14f8aa30-b5ec-434c-b1ca-6a2a577b4511",
   "metadata": {},
   "outputs": [
    {
     "name": "stdout",
     "output_type": "stream",
     "text": [
      "subracting 12 and 4 is 8\n"
     ]
    }
   ],
   "source": [
    "#subraction\n",
    "print(f\"subracting {a} and {b} is {a-b}\")"
   ]
  },
  {
   "cell_type": "code",
   "execution_count": 20,
   "id": "4977a930-5d33-4d12-bc42-9563f21277fe",
   "metadata": {},
   "outputs": [
    {
     "name": "stdout",
     "output_type": "stream",
     "text": [
      " multipilying 12 and 4 is 48\n"
     ]
    }
   ],
   "source": [
    "#Multiplication\n",
    "print(f\" multipilying {a} and {b} is {a*b}\")"
   ]
  },
  {
   "cell_type": "code",
   "execution_count": 24,
   "id": "1eba6dcd-7f1e-4d08-bcc0-319faa2dc47d",
   "metadata": {},
   "outputs": [
    {
     "name": "stdout",
     "output_type": "stream",
     "text": [
      " dividing 12 and 4 is 3.0\n"
     ]
    }
   ],
   "source": [
    "#division\n",
    "print(f\" dividing {a} and {b} is {a/b}\")"
   ]
  },
  {
   "cell_type": "code",
   "execution_count": 26,
   "id": "b3909199-f01b-44c6-9095-91cd27efef14",
   "metadata": {},
   "outputs": [
    {
     "name": "stdout",
     "output_type": "stream",
     "text": [
      " floor division 12 and 4 is 3\n"
     ]
    }
   ],
   "source": [
    "#floor division\n",
    "print(f\" floor division {a} and {b} is {a//b}\")"
   ]
  },
  {
   "cell_type": "code",
   "execution_count": 28,
   "id": "d55c982d-37a0-41d0-b7b1-1a88d874932d",
   "metadata": {},
   "outputs": [
    {
     "name": "stdout",
     "output_type": "stream",
     "text": [
      " module 12 and 4 is 0\n"
     ]
    }
   ],
   "source": [
    "#module\n",
    "print(f\" module {a} and {b} is {a%b}\")"
   ]
  },
  {
   "cell_type": "code",
   "execution_count": 42,
   "id": "97aa2c1b-639b-4d2f-bb85-4dfae163c586",
   "metadata": {},
   "outputs": [
    {
     "name": "stdin",
     "output_type": "stream",
     "text": [
      "Enter a number: 20\n",
      "Enter a number: 25\n"
     ]
    },
    {
     "name": "stdout",
     "output_type": "stream",
     "text": [
      "20>25 is False\n",
      "20<25 is True\n",
      "20>=25 is False\n",
      "20<=25 is True\n",
      "20==25 is False\n",
      "20!=25 is True\n"
     ]
    }
   ],
   "source": [
    "#comparasion operator\n",
    "s=int(input(\"Enter a number:\"))\n",
    "r=int(input(\"Enter a number:\"))\n",
    "print(f\"{s}>{r} is {s>r}\")\n",
    "print(f\"{s}<{r} is {s<r}\")\n",
    "print(f\"{s}>={r} is {s>=r}\")\n",
    "print(f\"{s}<={r} is {s<=r}\")\n",
    "print(f\"{s}=={r} is {s==r}\")\n",
    "print(f\"{s}!={r} is {s!=r}\")"
   ]
  },
  {
   "cell_type": "code",
   "execution_count": 48,
   "id": "98477e18-166c-42bc-a302-b04cf95c29aa",
   "metadata": {},
   "outputs": [
    {
     "name": "stdin",
     "output_type": "stream",
     "text": [
      "Enter the number: 12\n",
      "Enter the number: 4\n"
     ]
    },
    {
     "name": "stdout",
     "output_type": "stream",
     "text": [
      "23\n"
     ]
    }
   ],
   "source": [
    "#Assigment operator\n",
    "a=int(input(\"Enter the number:\"))\n",
    "b=int(input(\"Enter the number:\"))\n",
    "z=a+b\n",
    "z+=7\n",
    "print(z)"
   ]
  },
  {
   "cell_type": "code",
   "execution_count": 56,
   "id": "a5807604-5f71-4525-9957-7c074b897a42",
   "metadata": {},
   "outputs": [
    {
     "name": "stdout",
     "output_type": "stream",
     "text": [
      "715\n"
     ]
    }
   ],
   "source": [
    "z-=5\n",
    "print(z)"
   ]
  },
  {
   "cell_type": "code",
   "execution_count": 66,
   "id": "f20f8ecc-7e81-42b2-8c04-2347b7d0ee12",
   "metadata": {},
   "outputs": [
    {
     "name": "stdout",
     "output_type": "stream",
     "text": [
      "0\n"
     ]
    }
   ],
   "source": [
    "z*=12\n",
    "print(z)"
   ]
  },
  {
   "cell_type": "code",
   "execution_count": 68,
   "id": "22fecd74-db92-4f45-b66b-d1af4e0f7767",
   "metadata": {},
   "outputs": [
    {
     "name": "stdout",
     "output_type": "stream",
     "text": [
      "0\n"
     ]
    }
   ],
   "source": [
    "z%=4\n",
    "print(z)"
   ]
  },
  {
   "cell_type": "code",
   "execution_count": 70,
   "id": "20d27262-dc62-4805-9b6c-60e930885bf6",
   "metadata": {},
   "outputs": [
    {
     "name": "stdout",
     "output_type": "stream",
     "text": [
      "0\n"
     ]
    }
   ],
   "source": [
    "z//=4\n",
    "print(z)"
   ]
  },
  {
   "cell_type": "code",
   "execution_count": null,
   "id": "ef1fd7e7-a3e7-432b-b01f-a14a29e4355b",
   "metadata": {},
   "outputs": [],
   "source": []
  }
 ],
 "metadata": {
  "kernelspec": {
   "display_name": "Python 3 (ipykernel)",
   "language": "python",
   "name": "python3"
  },
  "language_info": {
   "codemirror_mode": {
    "name": "ipython",
    "version": 3
   },
   "file_extension": ".py",
   "mimetype": "text/x-python",
   "name": "python",
   "nbconvert_exporter": "python",
   "pygments_lexer": "ipython3",
   "version": "3.12.7"
  }
 },
 "nbformat": 4,
 "nbformat_minor": 5
}
